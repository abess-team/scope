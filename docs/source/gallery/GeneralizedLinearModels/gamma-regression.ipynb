{
 "cells": [
  {
   "attachments": {},
   "cell_type": "markdown",
   "id": "7f5e5d54",
   "metadata": {},
   "source": [
    "\n",
    "# Gamma Regression\n"
   ]
  },
  {
   "cell_type": "code",
   "execution_count": 1,
   "id": "c2a702d8",
   "metadata": {},
   "outputs": [],
   "source": [
    "%matplotlib inline"
   ]
  },
  {
   "attachments": {},
   "cell_type": "markdown",
   "id": "d8ba8fc9",
   "metadata": {},
   "source": [
    "We would like to use an example to show how the sparse-constrained optimization for gamma regression works in our program."
   ]
  },
  {
   "attachments": {},
   "cell_type": "markdown",
   "id": "55dcc923",
   "metadata": {},
   "source": [
    "## Introduction to Gamma Regression\n",
    "Gamma regression can be used when you have positive continuous response variables such as payments for insurance claims,\n",
    "or the lifetime of a redundant system.\n",
    "It is well known that the density of Gamma distribution can be represented as a function of\n",
    "a mean parameter ($\\mu$) and a shape parameter ($\\alpha$), respectively,\n",
    "$$\n",
    "\\begin{align}f(y \\mid \\mu, \\alpha)=\\frac{1}{y \\Gamma(\\alpha)}\\left(\\frac{\\alpha y}{\\mu}\\right)^{\\alpha} e^{-\\alpha y / \\mu} {I}_{(0, \\infty)}(y),\\end{align}\n",
    "$$\n",
    "where $I(\\cdot)$ denotes the indicator function. In the Gamma regression model,\n",
    "response variables are assumed to follow Gamma distributions. Specifically,\n",
    "\n",
    "\\begin{align}y_i \\sim Gamma(\\mu_i, \\alpha),\\end{align}\n",
    "\n",
    "\n",
    "where $1/\\mu_i = x_i^T\\beta$.\n",
    "\n",
    "With $n$ independent data of the explanatory variables $x$ and the response variable $y$, we can estimate $\\beta$ by minimizing the negative log-likelihood function under sparsity constraint:\n",
    "\n",
    "<a id='loss'></a>\n",
    "$$\n",
    "\\arg \\min _{\\beta \\in R^p} L(\\beta):=-\\frac{1}{n} \\sum_{i=1}^n\\left\\{-\\alpha \\left( y_i x_i^T \\beta - \\log \\left(x_i^T \\beta\\right)\\right) + \\alpha \\log \\alpha + \\left(\\alpha - 1\\right) \\log y - \\log \\Gamma \\left(\\alpha\\right) \\right\\}, \\text { s.t. }\\|\\beta\\|_0 \\leq s .\\tag{1}\n",
    "$$\n",
    "\n",
    "Here is example python code for solving sparse gamma regression problem:\n"
   ]
  },
  {
   "attachments": {},
   "cell_type": "markdown",
   "id": "2a3dae62",
   "metadata": {},
   "source": [
    "### Import necessary packages "
   ]
  },
  {
   "cell_type": "code",
   "execution_count": 2,
   "id": "e0543a73",
   "metadata": {},
   "outputs": [],
   "source": [
    "import numpy as np\n",
    "import jax.numpy as jnp\n",
    "from skscope import ScopeSolver, HTPSolver, GraspSolver\n",
    "from skscope.numeric_solver import convex_solver_LBFGS"
   ]
  },
  {
   "attachments": {},
   "cell_type": "markdown",
   "id": "c325811b",
   "metadata": {},
   "source": [
    "### Set a seed"
   ]
  },
  {
   "cell_type": "code",
   "execution_count": 3,
   "id": "170d8d8c",
   "metadata": {},
   "outputs": [],
   "source": [
    "np.random.seed(123)"
   ]
  },
  {
   "attachments": {},
   "cell_type": "markdown",
   "id": "36c71007",
   "metadata": {},
   "source": [
    "### Generate the data\n",
    "\n",
    "Firstly, we define a data generator function to provide a way to generate suitable dataset for this task.\n",
    "\n",
    "The model: \n",
    "* $y \\sim \\text{Gamma}(\\mu, \\alpha), \\mu = 1/(x^T \\beta + \\epsilon), \\beta \\sim U[1, 2], \\mu / \\alpha\\sim U[0.1, 100.1]$ in shape-scale definition.\n",
    "\n"
   ]
  },
  {
   "cell_type": "code",
   "execution_count": 4,
   "id": "511e19d0",
   "metadata": {},
   "outputs": [],
   "source": [
    "def sample(p, k):\n",
    "    full = np.arange(p)\n",
    "    select = sorted(np.random.choice(full, k, replace=False))\n",
    "    return select\n",
    "\n",
    "def make_gamma_data(n, p, k, rho=0, corr_type=\"const\", random_state=None):\n",
    "    np.random.seed(random_state)\n",
    "    if corr_type == \"exp\":\n",
    "        # generate correlation matrix with exponential decay\n",
    "        R = np.zeros((p, p))\n",
    "        for i in range(p):\n",
    "            for j in range(i, p):\n",
    "                R[i, j] = rho ** abs(i - j)\n",
    "        R = R + R.T - np.identity(p)\n",
    "    elif corr_type == \"const\":\n",
    "        # generate correlation matrix with constant correlation\n",
    "        R = np.ones((p, p)) * rho\n",
    "        for i in range(p):\n",
    "            R[i, i] = 1\n",
    "    else:\n",
    "        raise ValueError(\n",
    "            \"corr_type should be \\'const\\' or \\'exp\\'\")\n",
    "\n",
    "    x = np.random.multivariate_normal(mean=np.zeros(p), cov=R, size=(n,))\n",
    "    \n",
    "    nonzero = sample(p, k)\n",
    "    Tbeta = np.zeros(p)\n",
    "    sign = np.random.choice([1, -1], k)\n",
    "\n",
    "    Tbeta[nonzero] = np.random.uniform(1, 2, k) * sign\n",
    "    # add noise\n",
    "    eta = x @ Tbeta + np.random.normal(0, 1, n)\n",
    "    # set coef_0 to make eta>0\n",
    "    eta = eta + np.abs(np.min(eta)) + 1\n",
    "    eta = 1 / eta\n",
    "    # set the shape para of gamma uniformly in [0.1,100.1]\n",
    "    shape_para = 100 * np.random.uniform(0, 1, 1) + 0.1\n",
    "    \n",
    "    y = np.random.gamma(\n",
    "        shape=shape_para,\n",
    "        scale=eta / shape_para,\n",
    "        size=n)\n",
    "    \n",
    "    return x, y, Tbeta\n"
   ]
  },
  {
   "attachments": {},
   "cell_type": "markdown",
   "id": "867ac8fa",
   "metadata": {},
   "source": [
    "We then use this function to generate a data set containg 500 observations and set only 5 of the 500 variables to have effect on the expectation of the response. "
   ]
  },
  {
   "cell_type": "code",
   "execution_count": 5,
   "id": "02e84f84",
   "metadata": {},
   "outputs": [
    {
     "name": "stdout",
     "output_type": "stream",
     "text": [
      "The predictor variables of the first five samples: \n",
      " [[ 1.42438003 -1.67273534  1.68496893 -0.92153038 -0.87169826]\n",
      " [-0.4166771   0.07831742  1.60630648  0.78679904  0.33734078]\n",
      " [-0.63942892 -1.30434416 -2.37872185  0.28598812 -0.92929139]\n",
      " ...\n",
      " [-0.2602563   0.09467965 -0.27328825  0.24245864 -0.9253791 ]\n",
      " [-0.40261149 -0.44179093 -0.59412831 -0.03653229  3.27678225]\n",
      " [-0.81823476 -1.75733214  1.79670648  1.30459205  1.19748667]]\n",
      "The first five noisy observations: \n",
      " [0.10186504 0.07007082 0.07016093 0.10492319 0.06682085]\n"
     ]
    }
   ],
   "source": [
    "n = 500\n",
    "p = 500\n",
    "s = 5\n",
    "x, y, coef_ = make_gamma_data(n=n, p=p, k=s)\n",
    "\n",
    "print(\"The predictor variables of the first five samples:\",'\\n',x[:,:5])\n",
    "print(\"The first five noisy observations:\", '\\n', y[:5])"
   ]
  },
  {
   "attachments": {},
   "cell_type": "markdown",
   "id": "9f3f5055",
   "metadata": {},
   "source": [
    "We augment data to avoid errors in the following codes:"
   ]
  },
  {
   "cell_type": "code",
   "execution_count": 6,
   "id": "cb3de276",
   "metadata": {},
   "outputs": [],
   "source": [
    "X = np.hstack((np.ones((n, 1)), x))\n",
    "true_params = np.hstack(([0.0], coef_))"
   ]
  },
  {
   "attachments": {},
   "cell_type": "markdown",
   "id": "e74f586f",
   "metadata": {},
   "source": [
    "### Define the loss function to calculate negative log-likelihood of Gamma regression\n",
    "\n",
    "Secondly, we define the loss function `gamma_loss` accorting to [1](#loss) that matches the data generating function `make_gamma_data`."
   ]
  },
  {
   "cell_type": "code",
   "execution_count": 7,
   "id": "571598bb",
   "metadata": {},
   "outputs": [],
   "source": [
    "def gamma_loss(params):\n",
    "    xbeta = jnp.clip(X @ params, -30, 30)\n",
    "    return jnp.mean(y * xbeta - jnp.log(xbeta)) "
   ]
  },
  {
   "attachments": {},
   "cell_type": "markdown",
   "id": "60302564",
   "metadata": {},
   "source": [
    "We note that when computing the gamma loss, $x_i^T \\beta$ may less than 0 and give `np.nan` or raise error, we should change the initial value of the parameters to make sure that $x_i^T \\beta$ > 0, the following code give an example to deal with this problem."
   ]
  },
  {
   "cell_type": "code",
   "execution_count": 8,
   "id": "8ba5303d",
   "metadata": {},
   "outputs": [],
   "source": [
    "def convex_solver_gamma(\n",
    "    objective_func,\n",
    "    value_and_grad,\n",
    "    params,\n",
    "    optim_variable_set,\n",
    "    data,\n",
    "):\n",
    "    \"\"\"\n",
    "    change the initial value of the parameters to let X @ params > 0\n",
    "    \"\"\"\n",
    "    m = np.min(X @ params)\n",
    "    if m <= 0.0:\n",
    "        params[0] -= m\n",
    "    return convex_solver_LBFGS(objective_func, value_and_grad, params, optim_variable_set, data)\n"
   ]
  },
  {
   "attachments": {},
   "cell_type": "markdown",
   "id": "56f9e16e",
   "metadata": {},
   "source": [
    "### Use skscope to solve the sparse gamma regression problem\n",
    "\n",
    "After defining the data generation and loss function, we can call `ScopeSolver` to solve the sparse-constrained optimization problem."
   ]
  },
  {
   "cell_type": "code",
   "execution_count": 9,
   "id": "e81331aa",
   "metadata": {
    "scrolled": true
   },
   "outputs": [],
   "source": [
    "solver = ScopeSolver(p+1, s+1, preselect=[0], numeric_solver=convex_solver_gamma)\n",
    "params = solver.solve(gamma_loss, init_params=np.hstack(([1.0], np.zeros(p))), jit=True)"
   ]
  },
  {
   "attachments": {},
   "cell_type": "markdown",
   "id": "c4d3720f",
   "metadata": {},
   "source": [
    "Now the `solver.params` contains the coefficients of gamma model with no more than 5 variables."
   ]
  },
  {
   "attachments": {},
   "cell_type": "markdown",
   "id": "34a47e6b",
   "metadata": {},
   "source": [
    "We can further compare the coefficients estimated by `skscope` and the real coefficients in two-fold:\n",
    "\n",
    "* The true support set and the estimated support set\n",
    "\n",
    "* The true nonzero parameters and the estimated nonzero parameters\n"
   ]
  },
  {
   "cell_type": "code",
   "execution_count": 11,
   "id": "f7520a78",
   "metadata": {},
   "outputs": [
    {
     "name": "stdout",
     "output_type": "stream",
     "text": [
      "True support set:  [ 94 151 172 374 408]\n",
      "Estimated support set:  [ 94 151 172 374 408]\n"
     ]
    }
   ],
   "source": [
    "true_support_set =  np.nonzero(true_params)[0]\n",
    "estimated_support_set =  (solver.support_set)[1:]\n",
    "\n",
    "print(\"True support set: \", true_support_set)\n",
    "print(\"Estimated support set: \", estimated_support_set)"
   ]
  },
  {
   "cell_type": "code",
   "execution_count": 12,
   "id": "f20838de",
   "metadata": {},
   "outputs": [
    {
     "name": "stdout",
     "output_type": "stream",
     "text": [
      "True parameters:  [1.16044681 1.06065828 1.78922069 1.20619509 1.55663571]\n",
      "Estimated parameters:  [1.2021258  0.99600871 1.74258709 1.18841825 1.46535362]\n"
     ]
    }
   ],
   "source": [
    "print(\"True parameters: \", true_params[true_support_set])\n",
    "print(\"Estimated parameters: \", solver.params[estimated_support_set])"
   ]
  },
  {
   "attachments": {},
   "cell_type": "markdown",
   "id": "1a6e1680",
   "metadata": {},
   "source": [
    "We can find that the support set solved by skscope completely coincides with the support set of the simulation data."
   ]
  },
  {
   "attachments": {},
   "cell_type": "markdown",
   "id": "ad64d6ca",
   "metadata": {},
   "source": [
    "### More on the results\n",
    "\n",
    "We can plot the sparse signal recovering from the noisy observations to visualize the results."
   ]
  },
  {
   "cell_type": "code",
   "execution_count": 13,
   "id": "f711e241",
   "metadata": {
    "scrolled": false
   },
   "outputs": [
    {
     "data": {
      "image/png": "[encoded data removed]",
      "text/plain": [
       "<Figure size 700x700 with 2 Axes>"
      ]
     },
     "metadata": {},
     "output_type": "display_data"
    }
   ],
   "source": [
    "import matplotlib.pyplot as plt\n",
    "\n",
    "# plot the sparse signal\n",
    "plt.figure(figsize=(7, 7))\n",
    "plt.subplot(2, 1, 1)\n",
    "plt.stem(true_support_set, true_params[true_support_set], markerfmt='o', basefmt='k-')\n",
    "plt.plot([0, 500], [0, 0], 'r-', lw=2)\n",
    "plt.xlim(0, 500)\n",
    "plt.title(\"Sparse signal\")\n",
    "\n",
    "# plot the noisy reconstruction\n",
    "plt.subplot(2, 1, 2)\n",
    "plt.stem(estimated_support_set, solver.params[estimated_support_set], markerfmt='o', basefmt='k-')\n",
    "plt.plot([0, 500], [0, 0], 'r-', lw=2)\n",
    "plt.xlim(0, 500)\n",
    "plt.title(\"Recovered signal from noisy observations\")\n",
    "\n",
    "plt.show()"
   ]
  },
  {
   "attachments": {},
   "cell_type": "markdown",
   "id": "69e6f78d",
   "metadata": {},
   "source": [
    "### References\n",
    "\n",
    "<div id=\"refer-1\"></div>\n",
    "\n",
    "- [1] Wikipedia, \"Gamma distribution\".\n",
    "https://en.wikipedia.org/wiki/Gamma_distribution\n",
    "\n",
    "<div id=\"refer-2\"></div>\n",
    "\n",
    "- [2] Abess docs, \"make_glm_data\".\n",
    "https://abess.readthedocs.io/en/latest/Python-package/datasets/glm.html\n"
   ]
  }
 ],
 "metadata": {
  "kernelspec": {
   "display_name": "p38",
   "language": "python",
   "name": "p38"
  },
  "language_info": {
   "codemirror_mode": {
    "name": "ipython",
    "version": 3
   },
   "file_extension": ".py",
   "mimetype": "text/x-python",
   "name": "python",
   "nbconvert_exporter": "python",
   "pygments_lexer": "ipython3",
   "version": "3.8.13"
  }
 },
 "nbformat": 4,
 "nbformat_minor": 5
}
