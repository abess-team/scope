{
   "cells": [
      {
         "cell_type": "code",
         "execution_count": 28,
         "id": "c2a702d8",
         "metadata": {},
         "outputs": [],
         "source": [
            "%matplotlib inline"
         ]
      },
      {
         "cell_type": "markdown",
         "id": "7f5e5d54",
         "metadata": {},
         "source": [
            "\n",
            "## Poisson regression\n"
         ]
      },
      {
         "cell_type": "markdown",
         "id": "5c72ce9b",
         "metadata": {},
         "source": [
            "We would like to use an example to show how the sparse-constrained optimization for poisson regression works in our program."
         ]
      },
      {
         "cell_type": "markdown",
         "id": "c509eeb3",
         "metadata": {},
         "source": [
            "### Introduction\n",
            "\n",
            "Poisson regression involves regression models in which the response variable is in the form of counts.\n",
            "For example, the count of number of car accidents or number of customers in line at a reception desk.\n",
            "The response variables is assumed to follow a Poisson distribution.\n",
            "\n",
            "Poisson regression is a type of regression analysis used to model count data and contingency tables. It assumes that the response variable, which represents counts, follows a Poisson distribution. This type of model is particularly useful when the data represents the number of times an event occurs within a fixed period of time, area, volume, or any other well-defined interval.\n",
            "\n",
            "In Poisson regression, the expected value of the response variable is linked to the linear predictors through a log-link function. However, in cases where covariates act additively, an identity link can be more appropriate. For instance, in certain applications where the counts are superimposed signals from multiple sources, the identity link maintains the additive nature of the covariates.\n",
            "Next are applications of it.\n",
            "\n",
            "- **Healthcare and epidemiology**: Poisson regression is extensively used in healthcare and epidemiology to model the number of occurrences of diseases or health-related events. This helps in identifying high-risk areas and populations, guiding public health interventions.\n",
            "- **Traffic and transportation**: In traffic studies, Poisson regression is applied to model the number of accidents occurring at various locations or during different time periods. This method helps in optimizing traffic management and reducing accident rates.\n",
            "- **Insurance**: In the insurance industry, Poisson regression models are used to predict the number of claims made by policyholders. This enables insurance companies to manage risk more effectively and ensure financial stability.\n",
            "\n",
            "The general mathematical equation for Poisson regression is\n",
            "\n",
            "<a id='generation'></a>\n",
            "$$\n",
            "\\begin{align}\\log(E(y)) = \\beta_0 + \\beta_1 X_1+\\beta_2 X_2+\\dots+\\beta_p X_p.\\end{align} \\tag{1}\n",
            "$$\n",
            "\n",
            "With $n$ independent data of the explanatory variables $x$ and the response variable $y$, we can estimate $\\beta$ by minimizing the negative log-likelihood function under sparsity constraint:\n",
            "\n",
            "<a id='loss'></a>\n",
            "$$\n",
            "\\arg \\min _{\\beta \\in R^p} L(\\beta):=-\\frac{1}{n} \\sum_{i=1}^n\\left\\{y_i x_i^T \\beta-\\exp \\left(x_i^T \\beta\\right)-\\log  \\left(y!\\right)\\right\\}, \\text { s.t. }\\|\\beta\\|_0 \\leq s .\\tag{2}\n",
            "$$\n",
            "\n",
            "Here is Python code for solving sparse poisson regression problem:"
         ]
      },
      {
         "cell_type": "markdown",
         "id": "830c41f0",
         "metadata": {},
         "source": [
            "### Data for poisson regression\n",
            "\n",
            "We import necessary packages and set a seed."
         ]
      },
      {
         "cell_type": "code",
         "execution_count": 29,
         "id": "1bf0126d",
         "metadata": {},
         "outputs": [],
         "source": [
            "import numpy as np\n",
            "from abess.datasets import make_glm_data\n",
            "import jax.numpy as jnp\n",
            "from skscope import ScopeSolver"
         ]
      },
      {
         "cell_type": "code",
         "execution_count": 30,
         "id": "7625f698",
         "metadata": {},
         "outputs": [],
         "source": [
            "np.random.seed(1234)"
         ]
      },
      {
         "cell_type": "markdown",
         "id": "631fa39e",
         "metadata": {},
         "source": [
            "\n",
            "Firstly, we generate some artificial data using logic [1](#generation). Consider a dataset containing n=500 observations with p=500 variables. The `make_glm_data` function allows us to generate simulated data by specifying the `family=\"poisson\"`. By specifying k = 5, we set only 5 of the 500 variables to have effect on the expectation of the response."
         ]
      },
      {
         "cell_type": "code",
         "execution_count": 39,
         "id": "00f6b74a",
         "metadata": {},
         "outputs": [],
         "source": [
            "n = 500\n",
            "p = 500\n",
            "s = 5\n",
            "\n",
            "data = make_glm_data(n=n, p=p, k=s, family=\"poisson\")\n",
            "X = data.x\n",
            "y = data.y"
         ]
      },
      {
         "cell_type": "markdown",
         "id": "d83de717",
         "metadata": {},
         "source": [
            "### Solve the problem\n",
            "\n",
            "Secondly, we define the loss function `poisson_loss` accorting to [2](#loss) that matches the data generating function `make_glm_data`."
         ]
      },
      {
         "cell_type": "code",
         "execution_count": 32,
         "id": "3a46cfb1",
         "metadata": {},
         "outputs": [],
         "source": [
            "def poisson_loss(params):\n",
            "    xbeta = jnp.clip(X @ params, -30, 30)\n",
            "    return jnp.sum(jnp.exp(xbeta) - y * xbeta) #omit \\log y! term"
         ]
      },
      {
         "cell_type": "markdown",
         "id": "63814549",
         "metadata": {
            "scrolled": true
         },
         "source": [
            "We use `skscope` to solve the sparse possion regression problem.\n",
            "After defining the data generation and loss function, we can call `ScopeSolver` to solve the sparse-constrained optimization problem. We will use SIC to decide the optimal support size."
         ]
      },
      {
         "cell_type": "code",
         "execution_count": 33,
         "id": "c2f17545",
         "metadata": {
            "scrolled": true
         },
         "outputs": [],
         "source": [
            "from skscope.utilities import SIC\n",
            "\n",
            "solver = ScopeSolver(p, sparsity = range(1,10), sample_size = n, ic_method = SIC)\n",
            "params = solver.solve(poisson_loss, jit=True)"
         ]
      },
      {
         "cell_type": "markdown",
         "id": "f5d313ed",
         "metadata": {},
         "source": [
            "Now the `solver.params` contains the coefficients of poisson model with no more than 5 variables. That is, those variables with a coefficient 0 is unused in the model."
         ]
      },
      {
         "cell_type": "markdown",
         "id": "71469a9c",
         "metadata": {},
         "source": [
            "We can further compare the coefficients estimated by `skscope` and the real coefficients in three-fold:\n",
            "\n",
            "* The true support set and the estimated support set\n",
            "\n",
            "* The true nonzero parameters and the estimated nonzero parameters\n",
            "\n",
            "* The true loss value and the estimated values"
         ]
      },
      {
         "cell_type": "code",
         "execution_count": 35,
         "id": "0d1a49bb",
         "metadata": {},
         "outputs": [
            {
               "name": "stdout",
               "output_type": "stream",
               "text": [
                  "True support set:  [ 53 331 336 393 431]\n",
                  "Estimated support set:  [ 53 331 336 393 431]\n"
               ]
            }
         ],
         "source": [
            "true_support_set = np.nonzero(data.coef_)[0]\n",
            "estimated_support_set = solver.support_set\n",
            "print(\"True support set: \", true_support_set)\n",
            "print(\"Estimated support set: \", estimated_support_set)"
         ]
      },
      {
         "cell_type": "code",
         "execution_count": 36,
         "id": "3270a39a",
         "metadata": {},
         "outputs": [
            {
               "name": "stdout",
               "output_type": "stream",
               "text": [
                  "True parameters:  [-4.59545963  7.8660496   7.09934975 -6.71406003 -5.76856858]\n",
                  "Estimated parameters:  [-4.59741833  7.96903051  7.83567449 -6.3614927  -5.50868553]\n"
               ]
            }
         ],
         "source": [
            "print(\"True parameters: \", data.coef_[true_support_set])\n",
            "print(\"Estimated parameters: \", solver.params[estimated_support_set])"
         ]
      },
      {
         "cell_type": "code",
         "execution_count": 37,
         "id": "0159e431",
         "metadata": {
            "scrolled": true
         },
         "outputs": [
            {
               "name": "stdout",
               "output_type": "stream",
               "text": [
                  "True loss value:  121.09512\n",
                  "Estimated loss value:  119.89359\n"
               ]
            }
         ],
         "source": [
            "print(\"True loss value: \", poisson_loss(data.coef_))\n",
            "print(\"Estimated loss value: \", poisson_loss(solver.params))"
         ]
      },
      {
         "cell_type": "markdown",
         "id": "3636a885",
         "metadata": {},
         "source": [
            "\n",
            "We can plot the sparse signal recovering from the noisy observations to visualize the results."
         ]
      },
      {
         "cell_type": "code",
         "execution_count": 38,
         "id": "bb1727ff",
         "metadata": {},
         "outputs": [
            {
               "data": {
                  "image/png": "[encoded data removed]",
                  "text/plain": [
                     "<Figure size 700x700 with 2 Axes>"
                  ]
               },
               "metadata": {},
               "output_type": "display_data"
            }
         ],
         "source": [
            "import matplotlib.pyplot as plt\n",
            "(inx_true,) =  data.coef_.nonzero()\n",
            "(inx_est,) =  solver.params.nonzero()\n",
            "\n",
            "# plot the sparse signal\n",
            "plt.figure(figsize=(7, 7))\n",
            "plt.subplot(2, 1, 1)\n",
            "plt.stem(inx_true, data.coef_[inx_true], markerfmt='o', basefmt='k-')\n",
            "plt.plot([0, 500], [0, 0], 'r-', lw=2)\n",
            "plt.xlim(0, 500)\n",
            "plt.title(\"Sparse signal\")\n",
            "#plt.plot(inx_true, true_params[inx_true], drawstyle='steps-post')\n",
            "\n",
            "# plot the noisy reconstruction\n",
            "plt.subplot(2, 1, 2)\n",
            "plt.stem(inx_est, solver.params[inx_est], markerfmt='o', basefmt='k-')\n",
            "plt.plot([0, 500], [0, 0], 'r-', lw=2)\n",
            "plt.xlim(0, 500)\n",
            "plt.title(\"Recovered signal from noisy observations\")\n",
            "#plt.plot(inx_est, solver.params[inx_est], drawstyle='steps-post')\n",
            "\n",
            "plt.show()"
         ]
      }
   ],
   "metadata": {
      "kernelspec": {
         "display_name": "scope",
         "language": "python",
         "name": "python3"
      },
      "language_info": {
         "codemirror_mode": {
            "name": "ipython",
            "version": 3
         },
         "file_extension": ".py",
         "mimetype": "text/x-python",
         "name": "python",
         "nbconvert_exporter": "python",
         "pygments_lexer": "ipython3",
         "version": "3.10.13"
      }
   },
   "nbformat": 4,
   "nbformat_minor": 5
}
