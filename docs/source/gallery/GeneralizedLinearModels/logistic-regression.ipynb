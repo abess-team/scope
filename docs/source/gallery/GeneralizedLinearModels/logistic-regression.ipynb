{
   "cells": [
      {
         "cell_type": "markdown",
         "id": "7f5e5d54",
         "metadata": {},
         "source": [
            "\n",
            "# Logistic Regressions\n",
            "------------\n",
            "\n",
            "## Part A, we would like to use an example to show how the sparse-constrained optimization for logistic regression works in our program."
         ]
      },
      {
         "cell_type": "markdown",
         "id": "e8486656",
         "metadata": {},
         "source": [
            "### Introduction\n",
            "\n",
            "Logistic regression is an important model to solve classification problem, which is expressed specifically as:\n",
            "$$\n",
            "\\begin{aligned}\n",
            "& P(y=1 \\mid x)=\\frac{1}{1+\\exp \\left(-x^T \\beta\\right)}, \\\\\n",
            "& P(y=0 \\mid x)=\\frac{1}{1+\\exp \\left(x^T \\beta\\right)},\n",
            "\\end{aligned}\n",
            "$$\n",
            "where $\\beta$ is an unknown parameter vector that to be estimated. Since we expect only a few explanatory variables contributing to predicting $y$, we assume $\\beta$ is sparse vector with sparsity level $s$.\n",
            "\n",
            "With $n$ independent data of the explanatory variables $x$ and the response variable $y$, we can estimate $\\beta$ by minimizing the negative log-likelihood function under sparsity constraint:\n",
            "\n",
            "<a id='loss'></a>\n",
            "$$\n",
            "\\arg \\min _{\\beta \\in R^p} L(\\beta):=-\\frac{1}{n} \\sum_{i=1}^n\\left\\{y_i x_i^T \\beta-\\log \\left(1+\\exp \\left(x_i^T \\beta\\right)\\right)\\right\\}, \\text { s.t. }\\|\\beta\\|_0 \\leq s \\tag{1}\n",
            "$$ "
         ]
      },
      {
         "cell_type": "markdown",
         "id": "c6ce97f7",
         "metadata": {},
         "source": [
            "### Import necessary packages"
         ]
      },
      {
         "cell_type": "code",
         "execution_count": 14,
         "id": "4020f0a5",
         "metadata": {},
         "outputs": [],
         "source": [
            "import jax.numpy as jnp\n",
            "import numpy as np\n",
            "from skscope import ScopeSolver\n",
            "import numpy as np"
         ]
      },
      {
         "cell_type": "markdown",
         "id": "ec16df9f",
         "metadata": {},
         "source": [
            "### Set a seed"
         ]
      },
      {
         "cell_type": "code",
         "execution_count": 3,
         "id": "b49ef6ca",
         "metadata": {},
         "outputs": [],
         "source": [
            "np.random.seed(123)"
         ]
      },
      {
         "cell_type": "markdown",
         "id": "8e3318e9",
         "metadata": {},
         "source": [
            "### Generate the data\n",
            "\n",
            "Firstly, we define a data generator function to provide a way to generate suitable dataset for this task."
         ]
      },
      {
         "cell_type": "code",
         "execution_count": 16,
         "id": "dd0d0594",
         "metadata": {},
         "outputs": [],
         "source": [
            "def data_generator(n, p, k, seed):\n",
            "    coef = np.zeros(p)\n",
            "    np.random.seed(seed)\n",
            "    coef[np.random.choice(np.arange(p), k, replace=False)] = np.random.choice([1, -1], k) * 100\n",
            "    # generate correlation matrix with exponential decay\n",
            "    R = np.zeros((p, p))\n",
            "    for i in range(p):\n",
            "        for j in range(i, p):\n",
            "            R[i, j] = 0.2 ** abs(i - j)\n",
            "    R = R + R.T - np.identity(p)\n",
            "\n",
            "    x = np.random.multivariate_normal(mean=np.zeros(p), cov=R, size=(n,))\n",
            "\n",
            "    xbeta = np.matmul(x, coef)\n",
            "    xbeta[xbeta > 30] = 30\n",
            "    xbeta[xbeta < -30] = -30\n",
            "\n",
            "    p = np.exp(xbeta) / (1 + np.exp(xbeta))\n",
            "    y = np.random.binomial(1, p)\n",
            "\n",
            "    return coef, (x, y)"
         ]
      },
      {
         "cell_type": "markdown",
         "id": "a42df91d",
         "metadata": {},
         "source": [
            "We then use this function to generate a data set containg 500 observations and set only 5 of the 500 variables to have effect on the expectation of the response."
         ]
      },
      {
         "cell_type": "code",
         "execution_count": 17,
         "id": "da82b90a",
         "metadata": {},
         "outputs": [],
         "source": [
            "n, p, s, rho = 500, 500, 5, 0.0\n",
            "X, y, true_params, true_support_set = make_logistic_data(n, p, s, rho , 0)"
         ]
      },
      {
         "cell_type": "markdown",
         "id": "61544564",
         "metadata": {},
         "source": [
            "### Define function to calculate negative log-likelihood of logistic regression\n",
            "\n",
            "Secondly, we define the loss function `logistic_loss` accorting to [1](#loss) that matches the data generating function `make_logistic_data`."
         ]
      },
      {
         "cell_type": "code",
         "execution_count": 18,
         "id": "29c7bf03",
         "metadata": {},
         "outputs": [],
         "source": [
            "def logistic_loss(params):\n",
            "    xbeta = jnp.clip(X @ params, -30, 30)\n",
            "    return jnp.sum(jnp.log(1 + jnp.exp(xbeta)) - y * xbeta)"
         ]
      },
      {
         "cell_type": "markdown",
         "id": "415b29a7",
         "metadata": {},
         "source": [
            "### Use SIC to decide the optimal support size\n",
            "\n",
            "There are four types of information criterion can be implemented in `skscope.utilities`:\n",
            "- Akaike information criterion (AIC)\n",
            "- Bayesian information criterion (BIC)\n",
            "- Extend BIC (EBIC)\n",
            "- Special information criterion (SIC)\n",
            "  \n",
            "You can just need one line of code to call any IC, here we use SIC:"
         ]
      },
      {
         "cell_type": "code",
         "execution_count": 19,
         "id": "adee6411",
         "metadata": {},
         "outputs": [],
         "source": [
            "from skscope.utilities import SIC"
         ]
      },
      {
         "cell_type": "code",
         "execution_count": 20,
         "id": "3f8fb0dd",
         "metadata": {},
         "outputs": [],
         "source": [
            "solver = ScopeSolver(p, sparsity = range(1,10), sample_size = n, ic_method = SIC)\n",
            "params = solver.solve(logistic_loss, jit=True)"
         ]
      },
      {
         "cell_type": "code",
         "execution_count": 8,
         "id": "4472f505",
         "metadata": {
            "scrolled": true
         },
         "outputs": [
            {
               "name": "stdout",
               "output_type": "stream",
               "text": [
                  "[1.2883844  1.25061865 1.80887014 1.11882953 1.4487943 ]\n"
               ]
            }
         ],
         "source": [
            "print(solver.params[solver.get_support()])"
         ]
      },
      {
         "cell_type": "markdown",
         "id": "7352ee5e",
         "metadata": {},
         "source": [
            "We can further compare the coefficients estimated by `skscope` and the real coefficients in three-fold:\n",
            "\n",
            "* The true support set and the estimated support set\n",
            "\n",
            "* The true nonzero parameters and the estimated nonzero parameters\n",
            "\n",
            "* The true loss value and the estimated values"
         ]
      },
      {
         "cell_type": "code",
         "execution_count": 22,
         "id": "6b080ad7",
         "metadata": {},
         "outputs": [
            {
               "name": "stdout",
               "output_type": "stream",
               "text": [
                  "True support set:  (array([ 90,  97, 340, 395, 477]),)\n",
                  "Estimated support set:  [ 90  97 340 395 477]\n"
               ]
            }
         ],
         "source": [
            "print(\"True support set: \", (true_params.nonzero()))\n",
            "print(\"Estimated support set: \", (solver.support_set))"
         ]
      },
      {
         "cell_type": "code",
         "execution_count": 23,
         "id": "35c717e8",
         "metadata": {},
         "outputs": [
            {
               "name": "stdout",
               "output_type": "stream",
               "text": [
                  "True parameters:  [ 100. -100.  100. -100. -100.]\n",
                  "Estimated parameters:  [ 4398.05269919 -4284.12650116  4302.04134409 -4283.66682006\n",
                  " -4274.74040784]\n"
               ]
            }
         ],
         "source": [
            "print(\"True parameters: \", true_params[true_params.nonzero()])\n",
            "print(\"Estimated parameters: \", solver.params[solver.support_set])"
         ]
      },
      {
         "cell_type": "code",
         "execution_count": 24,
         "id": "5ec381f6",
         "metadata": {},
         "outputs": [
            {
               "name": "stdout",
               "output_type": "stream",
               "text": [
                  "True loss value:  3.9117422\n",
                  "Estimated loss value:  1.4066623e-05\n"
               ]
            }
         ],
         "source": [
            "print(\"True loss value: \", logistic_loss(true_params))\n",
            "print(\"Estimated loss value: \", logistic_loss(solver.params))"
         ]
      },
      {
         "cell_type": "markdown",
         "id": "71960a6d",
         "metadata": {},
         "source": [
            "### More on the results\n",
            "\n",
            "We can plot the sparse signal recovering from the noisy observations to visualize the results."
         ]
      },
      {
         "cell_type": "code",
         "execution_count": 25,
         "id": "95bab082",
         "metadata": {},
         "outputs": [
            {
               "data": {
                  "image/png": "[encoded data removed]",
                  "text/plain": [
                     "<Figure size 700x700 with 2 Axes>"
                  ]
               },
               "metadata": {},
               "output_type": "display_data"
            }
         ],
         "source": [
            "import matplotlib.pyplot as plt\n",
            "(inx_true,) =  true_params.nonzero()\n",
            "(inx_est,) =  solver.params.nonzero()\n",
            "\n",
            "# plot the sparse signal\n",
            "plt.figure(figsize=(7, 7))\n",
            "plt.subplot(2, 1, 1)\n",
            "plt.stem(inx_true, true_params[inx_true], markerfmt='o', basefmt='k-')\n",
            "plt.plot([0, 500], [0, 0], 'r-', lw=2)\n",
            "plt.xlim(0, 500)\n",
            "plt.title(\"Sparse signal\")\n",
            "#plt.plot(inx_true, true_params[inx_true], drawstyle='steps-post')\n",
            "\n",
            "# plot the noisy reconstruction\n",
            "plt.subplot(2, 1, 2)\n",
            "plt.stem(inx_est, solver.params[inx_est], markerfmt='o', basefmt='k-')\n",
            "plt.plot([0, 500], [0, 0], 'r-', lw=2)\n",
            "plt.xlim(0, 500)\n",
            "plt.title(\"Recovered signal from noisy observations\")\n",
            "#plt.plot(inx_est, solver.params[inx_est], drawstyle='steps-post')\n",
            "\n",
            "plt.show()"
         ]
      },
      {
         "cell_type": "markdown",
         "id": "40afeb7f",
         "metadata": {},
         "source": [
            "## Part B, we will use cross-validation to select the optimal support set and compare its runtime with that of SIC."
         ]
      },
      {
         "cell_type": "markdown",
         "id": "0a968a95",
         "metadata": {},
         "source": [
            "#### Use SICto decide the optimal support size and Record the runtime of SIC."
         ]
      },
      {
         "cell_type": "code",
         "execution_count": 26,
         "id": "67358a0b",
         "metadata": {},
         "outputs": [
            {
               "name": "stdout",
               "output_type": "stream",
               "text": [
                  "True support set:  (array([ 90,  97, 340, 395, 477]),)\n",
                  "skscope estimated support set:  [ 90  97 340 395 477]\n",
                  "Runtime of SIC: 0.4018411636352539 seconds\n"
               ]
            }
         ],
         "source": [
            "import time\n",
            "# Record start time\n",
            "start_time = time.time()\n",
            "\n",
            "solver_ic = ScopeSolver(p, sparsity = range(1, 10), sample_size = n, ic_method = SIC)\n",
            "params_ic = solver_ic.solve(logistic_loss, jit=True)\n",
            "\n",
            "# Variable selection accuracy\n",
            "print(\"True support set: \", (true_params.nonzero()))\n",
            "print(\"skscope estimated support set: \", (solver_ic.support_set))\n",
            "\n",
            "# Calculate runtime\n",
            "runtime = time.time() - start_time\n",
            "print(\"Runtime of SIC:\", runtime, \"seconds\")"
         ]
      },
      {
         "cell_type": "markdown",
         "id": "83cbd590",
         "metadata": {},
         "source": [
            "#### Use CV to decide the optimal support size and record the runtime of CV."
         ]
      },
      {
         "cell_type": "code",
         "execution_count": 27,
         "id": "88011386",
         "metadata": {},
         "outputs": [
            {
               "name": "stdout",
               "output_type": "stream",
               "text": [
                  "True support set:  (array([ 90,  97, 340, 395, 477]),)\n",
                  "skscope estimated support set:  [ 90  97 340 395 477]\n",
                  "Runtime of CV: 3.7037763595581055 seconds\n"
               ]
            }
         ],
         "source": [
            "def logistic_loss_cv(params, data):\n",
            "    xbeta = jnp.clip(data[0] @ params, -30, 30)\n",
            "    return jnp.sum(jnp.log(1 + jnp.exp(xbeta)) - data[1] * xbeta)\n",
            "\n",
            "# Record start time\n",
            "start_time = time.time()\n",
            "\n",
            "solver_cv = ScopeSolver(p, sparsity = range(1, 10), sample_size = n, cv = 5,\n",
            "                        split_method=lambda data, index: (data[0][index, :], data[1][index]))\n",
            "params_cv = solver_cv.solve(logistic_loss_cv, jit=True, data=(X, y))\n",
            "\n",
            "# Variable selection accuracy\n",
            "print(\"True support set: \", (true_params.nonzero()))\n",
            "print(\"skscope estimated support set: \", (solver_cv.support_set))\n",
            "\n",
            "# Calculate runtime\n",
            "runtime = time.time() - start_time\n",
            "print(\"Runtime of CV:\", runtime, \"seconds\")"
         ]
      },
      {
         "cell_type": "markdown",
         "id": "a8cacd2e",
         "metadata": {},
         "source": [
            "Comparing the results of SIC and CV criteria, we find that while maintaining high accuracy in variable selection, SIC exhibits a clear time advantage."
         ]
      },
      {
         "cell_type": "markdown",
         "id": "1f36004a",
         "metadata": {},
         "source": [
            "## Part C, we compare the results under two different circumstances: using warmstart and not using warmstart."
         ]
      },
      {
         "cell_type": "markdown",
         "id": "75304405",
         "metadata": {},
         "source": [
            "#### Using warmstart "
         ]
      },
      {
         "cell_type": "code",
         "execution_count": 28,
         "id": "be3ae766",
         "metadata": {},
         "outputs": [
            {
               "name": "stdout",
               "output_type": "stream",
               "text": [
                  "Runtime: 0.24225878715515137 seconds\n"
               ]
            }
         ],
         "source": [
            "# Record start time\n",
            "start_time = time.time()\n",
            "\n",
            "solver_ws = ScopeSolver(p, s)\n",
            "params_ws = solver_ws.solve(logistic_loss, jit=True)\n",
            "\n",
            "# Calculate runtime\n",
            "runtime = time.time() - start_time\n",
            "print(\"Runtime:\", runtime, \"seconds\")"
         ]
      },
      {
         "cell_type": "code",
         "execution_count": 30,
         "id": "6343e161",
         "metadata": {},
         "outputs": [
            {
               "name": "stdout",
               "output_type": "stream",
               "text": [
                  "True support set:  (array([ 90,  97, 340, 395, 477]),)\n",
                  "Estimated support set:  [ 90  97 340 395 477]\n"
               ]
            }
         ],
         "source": [
            "print(\"True support set: \", (true_params.nonzero()))\n",
            "print(\"Estimated support set: \", (solver_ws.support_set))"
         ]
      },
      {
         "cell_type": "markdown",
         "id": "93acced2",
         "metadata": {},
         "source": [
            "#### Not using warmstart"
         ]
      },
      {
         "cell_type": "code",
         "execution_count": 31,
         "id": "90e52a60",
         "metadata": {},
         "outputs": [
            {
               "name": "stdout",
               "output_type": "stream",
               "text": [
                  "Runtime: 0.37964749336242676 seconds\n"
               ]
            }
         ],
         "source": [
            "# Record start time\n",
            "start_time = time.time()\n",
            "\n",
            "solver_nws = ScopeSolver(p, s)\n",
            "solver_nws.warm_start = False\n",
            "params_nws = solver_nws.solve(logistic_loss, jit=True)\n",
            "\n",
            "# Calculate runtime\n",
            "runtime = time.time() - start_time\n",
            "print(\"Runtime:\", runtime, \"seconds\")"
         ]
      },
      {
         "cell_type": "code",
         "execution_count": 33,
         "id": "295f2586",
         "metadata": {},
         "outputs": [
            {
               "name": "stdout",
               "output_type": "stream",
               "text": [
                  "True support set:  (array([ 90,  97, 340, 395, 477]),)\n",
                  "Estimated support set:  [ 90  97 340 395 477]\n"
               ]
            }
         ],
         "source": [
            "print(\"True support set: \", (true_params.nonzero()))\n",
            "print(\"Estimated support set: \", (solver_nws.support_set))"
         ]
      },
      {
         "cell_type": "markdown",
         "id": "f4e63bad",
         "metadata": {},
         "source": [
            "Hint: all solvers default to using warmstart, which can slightly prolong computation time if not utilized"
         ]
      }
   ],
   "metadata": {
      "kernelspec": {
         "display_name": "scope",
         "language": "python",
         "name": "python3"
      },
      "language_info": {
         "codemirror_mode": {
            "name": "ipython",
            "version": 3
         },
         "file_extension": ".py",
         "mimetype": "text/x-python",
         "name": "python",
         "nbconvert_exporter": "python",
         "pygments_lexer": "ipython3",
         "version": "3.10.13"
      }
   },
   "nbformat": 4,
   "nbformat_minor": 5
}