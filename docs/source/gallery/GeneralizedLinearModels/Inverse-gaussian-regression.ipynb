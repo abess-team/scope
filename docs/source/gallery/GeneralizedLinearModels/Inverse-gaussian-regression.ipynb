{
 "cells": [
  {
   "cell_type": "code",
   "execution_count": 1,
   "id": "27136bd7",
   "metadata": {},
   "outputs": [],
   "source": [
    "%matplotlib inline"
   ]
  },
  {
   "attachments": {},
   "cell_type": "markdown",
   "id": "9d7a7cae",
   "metadata": {},
   "source": [
    "\n",
    "## Inverse Gaussian regression\n"
   ]
  },
  {
   "attachments": {},
   "cell_type": "markdown",
   "id": "c7590b2a",
   "metadata": {},
   "source": [
    "We would like to use an example to show how the sparse-constrained optimization for inverse gaussian regression works in our program."
   ]
  },
  {
   "attachments": {},
   "cell_type": "markdown",
   "id": "e9f957ec",
   "metadata": {},
   "source": [
    "### Introduction\n",
    "\n",
    "The inverse Gaussian distribution is especially suitable for modeling data that are positively skewed and non-negative. It was first introduced by Louis Bachelier in 1900 [[1]](#refer-anchor-1). Its properties make it useful for modeling the time until an event occurs (like failure time in reliability studies) and for life data analysis.\n",
    "Next are some applications of it.\n",
    "- **Reliability Engineering**: The inverse Gaussian distribution is commonly used to model the lifetimes of components subject to wear and tear, such as mechanical parts and electronic devices. Its suitability for skewed data makes it a valuable tool in predicting failure times and planning maintenance schedules.\n",
    "- **Medical Research**: It is used to model survival times and the time until recurrence of diseases. For instance, the time until the recurrence of a disease after treatment can be effectively modeled using the inverse Gaussian distribution.\n",
    "- **Finance**: In finance, the inverse Gaussian distribution can be used to model stock returns and interest rates, which are often positively skewed. It provides a more accurate representation of the time to default for credit risk modeling compared to symmetric distributions.\n",
    "- **Queueing Theory**: It is used to model the time between arrivals of customers in queueing systems. The distribution’s ability to handle skewness makes it a good fit for systems where the arrival times are not evenly distributed.\n",
    "\n",
    "The inverse Gaussian distribution and its regression model provide powerful tools for analyzing positively skewed continuous data. By leveraging the properties of this distribution, practitioners can gain valuable insights into the underlying processes governing their data, whether in engineering, medicine, finance, or other fields. Effective parameter estimation and model evaluation are crucial for making accurate predictions and informed decisions based on the model.\n",
    "\n",
    "The inverse Gaussian distribution is a continuous probability distribution with probability density function:\n",
    "$$\n",
    "f(y|\\mu,\\lambda) = \\sqrt{\\frac{\\lambda}{2\\pi y^3}}\\exp\\left(-\\frac{\\lambda(y-\\mu)^2}{2\\mu^2y}\\right)\n",
    "$$\n",
    "where $y>0$, mean $\\mu>0$, and dispersion parameter $\\lambda>0$. In fact, the inverse Gaussian distribution can also use the variance $\\sigma^{2}$ to represent the shape parameter, and the relationship between the two is $\\lambda = 1/\\sigma^{2}$. We then use $\\sigma^{2}$ to reparameterize the probability density function of the inverse Gaussian distribution:\n",
    "$$\n",
    "f\\left(y ; \\mu, \\sigma^2\\right)=\\frac{1}{\\sqrt{2 \\pi y^3 \\sigma^2}} \\exp \\left\\{-\\frac{(y-\\mu)^2}{2(\\mu \\sigma)^2 y}\\right\\}\n",
    "$$\n",
    "\n",
    "In inverse Gaussian regression, we assume that the response variable $yi$ follows an inverse Gaussian distribution with mean $\\mu_i$ and variance parameter $\\sigma^{2}$. In GLM, we model the mean $\\mu_i$ as $\\frac{1}{2 \\mu_i^2}=x_i^T\\beta$.\n",
    "\n",
    "where $\\beta$ is a vector of unknown regression coefficients, and $x_i$ is a vector of predictor variables for the $i$th observation.\n",
    "\n",
    "With $n$ independent data of the explanatory variables $x$ and the response variable $y$, we can estimate $\\beta$ by minimizing the negative log-likelihood function under sparsity constraint:\n",
    "\n",
    "<a id='loss'></a>\n",
    "$$\n",
    "\\arg \\min _{\\beta \\in R^p} L(\\beta):=-\\frac{1}{n} \\sum_{i=1}^n \\left\\{\\frac{y_i x_i^T\\beta-\\sqrt{2 x_i^T\\beta}}{-\\sigma^2}-\\frac{1}{2 y_i \\sigma^2}-\\frac{1}{2} \\ln \\left(2 \\pi y_i^3 \\sigma^2\\right)\\right\\}, \\text { s.t. }\\|\\beta\\|_0 \\leq s .\\tag{1}\n",
    "$$\n",
    "\n",
    "Here is Python code for solving sparse Inverse Gaussian Regression problem:"
   ]
  },
  {
   "attachments": {},
   "cell_type": "markdown",
   "id": "724a582d",
   "metadata": {},
   "source": [
    "### Data for inverse Gaussian regression\n",
    "\n",
    "We import necessary packages and set a seed."
   ]
  },
  {
   "cell_type": "code",
   "execution_count": 4,
   "id": "c6b29840",
   "metadata": {},
   "outputs": [],
   "source": [
    "import jax.numpy as jnp\n",
    "import numpy as np\n",
    "from skscope import ScopeSolver\n",
    "import numpy as np"
   ]
  },
  {
   "cell_type": "code",
   "execution_count": 5,
   "id": "9d02b1ba",
   "metadata": {},
   "outputs": [],
   "source": [
    "np.random.seed(123)"
   ]
  },
  {
   "attachments": {},
   "cell_type": "markdown",
   "id": "d3b0b805",
   "metadata": {},
   "source": [
    "\n",
    "Firstly, we define a data generator function to provide a way to generate suitable dataset for this task.\n",
    "\n",
    "The model: \n",
    "* $y \\sim \\text{invgaussian}(\\mu, \\lambda), \\mu = 1/\\sqrt(2*(x^T \\beta + \\epsilon)), \\beta \\sim U[1, 2], \\lambda\\sim U[0.1, 100.1]$ in shape-scale definition.\n",
    "\n"
   ]
  },
  {
   "cell_type": "code",
   "execution_count": 6,
   "id": "8abde611",
   "metadata": {},
   "outputs": [],
   "source": [
    "def sample(p, k):\n",
    "    full = np.arange(p)\n",
    "    select = sorted(np.random.choice(full, k, replace=False))\n",
    "    return select\n",
    "\n",
    "def make_inverse_gaussian_regression_data(n, p, k, rho=0, corr_type=\"const\", random_state=None):\n",
    "    np.random.seed(random_state)\n",
    "    if corr_type == \"exp\":\n",
    "        # generate correlation matrix with exponential decay\n",
    "        R = np.zeros((p, p))\n",
    "        for i in range(p):\n",
    "            for j in range(i, p):\n",
    "                R[i, j] = rho ** abs(i - j)\n",
    "        R = R + R.T - np.identity(p)\n",
    "    elif corr_type == \"const\":\n",
    "        # generate correlation matrix with constant correlation\n",
    "        R = np.ones((p, p)) * rho\n",
    "        for i in range(p):\n",
    "            R[i, i] = 1\n",
    "    else:\n",
    "        raise ValueError(\n",
    "            \"corr_type should be \\'const\\' or \\'exp\\'\")\n",
    "\n",
    "    x = np.random.multivariate_normal(mean=np.zeros(p), cov=R, size=(n,))\n",
    "    \n",
    "    nonzero = sample(p, k)\n",
    "    Tbeta = np.zeros(p)\n",
    "    sign = np.random.choice([1, -1], k)\n",
    "\n",
    "    Tbeta[nonzero] = np.random.uniform(1, 2, k) * sign\n",
    "    # add noise\n",
    "    eta = x @ Tbeta + np.random.normal(0, 1, n)\n",
    "    # set coef_0 to make eta>0\n",
    "    eta = eta + np.abs(np.min(eta)) + 1\n",
    "    mu = np.sqrt(1 / (2 * eta))\n",
    "    # set the shape para of gamma uniformly in [0.1,100.1]\n",
    "    shape_para = 100 * np.random.uniform(0, 1, 1) + 0.1\n",
    "    \n",
    "    y = np.random.wald(\n",
    "        mean=mu,\n",
    "        scale=shape_para,\n",
    "        size=n)\n",
    "    \n",
    "    return x, y, Tbeta\n"
   ]
  },
  {
   "attachments": {},
   "cell_type": "markdown",
   "id": "8f913407",
   "metadata": {},
   "source": [
    "We then use this function to generate a data set containg 500 observations and set only 5 of the 500 variables to have effect on the expectation of the response. "
   ]
  },
  {
   "cell_type": "code",
   "execution_count": 7,
   "id": "eb09fb61",
   "metadata": {},
   "outputs": [
    {
     "name": "stdout",
     "output_type": "stream",
     "text": [
      "The predictor variables of the first five samples: \n",
      " [[ 0.85333806  0.42035179 -0.83650549 -1.05078447  1.64257997]\n",
      " [-0.0090094   0.87067429 -1.51995846 -0.26814789 -1.15950071]\n",
      " [ 0.14740578  0.86978549  0.68969919  0.72877506 -0.01683556]\n",
      " ...\n",
      " [ 0.62295509  0.45955982 -0.23186249 -1.61251813  0.15725694]\n",
      " [-0.83419535  0.33978008  0.28627336 -1.27024831  1.78917345]\n",
      " [-1.49402514  1.0668483   1.29668663  1.37658076  0.78598676]]\n",
      "The first five noisy observations: \n",
      " [0.0965436  0.53446712 0.09841531 0.23741934 0.26822657]\n"
     ]
    }
   ],
   "source": [
    "n = 500\n",
    "p = 500\n",
    "s = 5\n",
    "x, y, coef_ = make_inverse_gaussian_regression_data(n=n, p=p, k=s)\n",
    "\n",
    "print(\"The predictor variables of the first five samples:\",'\\n',x[:,:5])\n",
    "print(\"The first five noisy observations:\", '\\n', y[:5])"
   ]
  },
  {
   "attachments": {},
   "cell_type": "markdown",
   "id": "feb4e1e3",
   "metadata": {},
   "source": [
    "We augment data to avoid errors in the following codes:"
   ]
  },
  {
   "cell_type": "code",
   "execution_count": 8,
   "id": "af217c61",
   "metadata": {},
   "outputs": [],
   "source": [
    "X = np.hstack((np.ones((n, 1)), x))\n",
    "true_params = np.hstack(([0.0], coef_))"
   ]
  },
  {
   "attachments": {},
   "cell_type": "markdown",
   "id": "66f1826a",
   "metadata": {},
   "source": [
    "### Solve the problem\n",
    "\n",
    "Next, we define the loss function `inverse_gaussian_regression_loss` accorting to [1](#loss) that matches the data generating function `make_inverse_gaussian_regression_data`."
   ]
  },
  {
   "cell_type": "code",
   "execution_count": 10,
   "id": "c86a6a75",
   "metadata": {},
   "outputs": [],
   "source": [
    "def inverse_gaussian_regression_loss(params):\n",
    "    xbeta = jnp.clip(X @ params, -30, 30)\n",
    "    return jnp.mean(jnp.sqrt(2*xbeta) - y * xbeta)"
   ]
  },
  {
   "attachments": {},
   "cell_type": "markdown",
   "id": "9eadd887",
   "metadata": {},
   "source": [
    "We note that when computing the gamma loss, $x_i^T \\beta$ may less than 0 and give `np.nan` or raise error, we should change the initial value of the parameters to make sure that $x_i^T \\beta$ > 0, the following code give an example to deal with this problem."
   ]
  },
  {
   "cell_type": "code",
   "execution_count": 11,
   "id": "f01b696c",
   "metadata": {},
   "outputs": [],
   "source": [
    "from skscope.numeric_solver import convex_solver_LBFGS\n",
    "def convex_solver_inverse_gaussian(\n",
    "    objective_func,\n",
    "    value_and_grad,\n",
    "    params,\n",
    "    optim_variable_set,\n",
    "    data,\n",
    "):\n",
    "    \"\"\"\n",
    "    change the initial value of the parameters to let X @ params > 0\n",
    "    \"\"\"\n",
    "    m = np.min(X @ params)\n",
    "    if m <= 0.0:\n",
    "        params[0] -= m\n",
    "    return convex_solver_LBFGS(objective_func, value_and_grad, params, optim_variable_set, data)"
   ]
  },
  {
   "attachments": {},
   "cell_type": "markdown",
   "id": "484bd3e9",
   "metadata": {},
   "source": [
    "We use `skscope` to solve the sparse inverse gaussian regression problem.\n",
    "After defining the data generation and loss function, we can call `ScopeSolver` to solve the sparse-constrained optimization problem.\n"
   ]
  },
  {
   "cell_type": "code",
   "execution_count": null,
   "id": "e50ad69a",
   "metadata": {},
   "outputs": [],
   "source": [
    "solver = ScopeSolver(p+1, s+1, preselect=[0], numeric_solver=convex_solver_inverse_gaussian)\n",
    "params = solver.solve(inverse_gaussian_regression_loss, init_params=np.hstack(([1.0], np.zeros(p))), jit=True)"
   ]
  },
  {
   "attachments": {},
   "cell_type": "markdown",
   "id": "40926d88",
   "metadata": {},
   "source": [
    "Now the `solver.params` contains the coefficients of gamma model with no more than 5 variables. That is, those variables with a coefficient 0 is unused in the model:"
   ]
  },
  {
   "cell_type": "code",
   "execution_count": null,
   "id": "fbfe9d54",
   "metadata": {},
   "outputs": [],
   "source": [
    "print(solver.params)"
   ]
  },
  {
   "attachments": {},
   "cell_type": "markdown",
   "id": "5b78d7b4",
   "metadata": {},
   "source": [
    "We can further compare the coefficients estimated by `skscope` and the real coefficients in two-fold:\n",
    "\n",
    "* The true support set and the estimated support set\n",
    "\n",
    "* The true nonzero parameters and the estimated nonzero parameters\n"
   ]
  },
  {
   "cell_type": "code",
   "execution_count": null,
   "id": "81ea0521",
   "metadata": {},
   "outputs": [],
   "source": [
    "true_support_set =  np.nonzero(true_params)[0]\n",
    "estimated_support_set =  (solver.support_set)[1:]\n",
    "\n",
    "print(\"True support set: \", true_support_set)\n",
    "print(\"Estimated support set: \", estimated_support_set)"
   ]
  },
  {
   "cell_type": "code",
   "execution_count": null,
   "id": "0710c568",
   "metadata": {},
   "outputs": [],
   "source": [
    "print(\"True parameters: \", true_params[true_support_set])\n",
    "print(\"Estimated parameters: \", solver.params[estimated_support_set])"
   ]
  },
  {
   "attachments": {},
   "cell_type": "markdown",
   "id": "5181485b",
   "metadata": {},
   "source": [
    "\n",
    "We can plot the sparse signal recovering from the noisy observations to visualize the results."
   ]
  },
  {
   "cell_type": "code",
   "execution_count": 10,
   "id": "32095753",
   "metadata": {},
   "outputs": [
    {
     "data": {
      "image/png": "[encoded data removed]",
      "text/plain": [
       "<Figure size 700x700 with 2 Axes>"
      ]
     },
     "metadata": {},
     "output_type": "display_data"
    }
   ],
   "source": [
    "import matplotlib.pyplot as plt\n",
    "\n",
    "# plot the sparse signal\n",
    "plt.figure(figsize=(7, 7))\n",
    "plt.subplot(2, 1, 1)\n",
    "plt.stem(true_support_set, true_params[true_support_set], markerfmt='o', basefmt='k-')\n",
    "plt.plot([0, 500], [0, 0], 'r-', lw=2)\n",
    "plt.xlim(0, 500)\n",
    "plt.title(\"Sparse signal\")\n",
    "#plt.plot(inx_true, true_params[inx_true], drawstyle='steps-post')\n",
    "\n",
    "# plot the noisy reconstruction\n",
    "plt.subplot(2, 1, 2)\n",
    "plt.stem(estimated_support_set, solver.params[estimated_support_set], markerfmt='o', basefmt='k-')\n",
    "plt.plot([0, 500], [0, 0], 'r-', lw=2)\n",
    "plt.xlim(0, 500)\n",
    "plt.title(\"Recovered signal from noisy observations\")\n",
    "#plt.plot(inx_est, solver.params[inx_est], drawstyle='steps-post')\n",
    "\n",
    "plt.show()"
   ]
  },
  {
   "attachments": {},
   "cell_type": "markdown",
   "id": "bee17e98",
   "metadata": {},
   "source": [
    "### References\n",
    "\n",
    "<div id=\"refer-anchor-1\"></div>\n",
    "\n",
    "- [1] Bachelier, L. (1900). Théorie de la spéculation. In Annales scientifiques de l'École normale supérieure (Vol. 17, pp. 21-86).\n",
    "\n",
    "<div id=\"refer-1\"></div>\n",
    "\n",
    "- [2] Wikipedia, \"Inverse Gaussian distribution\".\n",
    "https://en.wikipedia.org/wiki/Inverse_Gaussian_distribution\n",
    "\n",
    "<div id=\"refer-2\"></div>\n",
    "\n",
    "- [3] Numpy, \"np.random.wald\".\n",
    "https://numpy.org/doc/stable/reference/random/generated/numpy.random.wald.html#numpy.random.wald\n"
   ]
  }
 ],
 "metadata": {
  "kernelspec": {
   "display_name": "p38",
   "language": "python",
   "name": "p38"
  },
  "language_info": {
   "codemirror_mode": {
    "name": "ipython",
    "version": 3
   },
   "file_extension": ".py",
   "mimetype": "text/x-python",
   "name": "python",
   "nbconvert_exporter": "python",
   "pygments_lexer": "ipython3",
   "version": "3.8.13"
  }
 },
 "nbformat": 4,
 "nbformat_minor": 5
}
