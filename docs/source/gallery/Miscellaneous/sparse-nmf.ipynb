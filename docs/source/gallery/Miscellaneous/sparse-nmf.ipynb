{
 "cells": [
  {
   "cell_type": "code",
   "execution_count": 680,
   "metadata": {},
   "outputs": [],
   "source": [
    "n, m, k = 5, 10, 3#500, 200, 15\n",
    "p = k * m + k * n\n",
    "l = 10#100"
   ]
  },
  {
   "cell_type": "code",
   "execution_count": 681,
   "metadata": {},
   "outputs": [],
   "source": [
    "import numpy as np\n",
    "import random\n",
    "random.seed(3)\n",
    "np.random.seed(3)"
   ]
  },
  {
   "cell_type": "code",
   "execution_count": 682,
   "metadata": {},
   "outputs": [],
   "source": [
    "def L(A, B):\n",
    "    k1, n = A.shape\n",
    "    k2, m = B.shape\n",
    "    assert n == m\n",
    "    total = 0\n",
    "    for i in range(k1):\n",
    "        min_row_diff = np.inf\n",
    "        for j in range(k2):\n",
    "            row_diff = np.sum((A[i, :] - B[j, :]) ** 2)\n",
    "            if row_diff < min_row_diff:\n",
    "                min_row_diff = row_diff\n",
    "        total += min_row_diff\n",
    "    return total"
   ]
  },
  {
   "cell_type": "code",
   "execution_count": 683,
   "metadata": {},
   "outputs": [],
   "source": [
    "from skscope import layer\n",
    "import jax.numpy as jnp\n",
    "import numpy as np\n",
    "\n",
    "layers = [layer.NonNegative(p)]\n",
    "for i in range(m):  \n",
    "    coef = np.zeros(p)\n",
    "    coef[i*k:i*k+k] = 1.0\n",
    "    layers.append(layer.LinearConstraint(p, jnp.array(coef)))\n",
    "\n",
    "preselect = list(range(k*m))"
   ]
  },
  {
   "cell_type": "code",
   "execution_count": 684,
   "metadata": {},
   "outputs": [],
   "source": [
    "true_H = np.random.uniform(100,size=(k, n))\n",
    "np.put(true_index:=np.zeros((k, n), dtype=int), np.random.choice(n*k, l, replace=False), 1)\n",
    "true_H *= true_index\n",
    "true_W = np.random.uniform(size=(m, k))\n",
    "true_W /= true_W.sum(axis=1, keepdims=True)\n",
    "\n",
    "X = true_W @ true_H"
   ]
  },
  {
   "cell_type": "code",
   "execution_count": 685,
   "metadata": {},
   "outputs": [
    {
     "data": {
      "text/plain": [
       "array([[45.47100765,  0.        ,  0.        ,  0.        , 11.59825152],\n",
       "       [11.2669842 , 87.56705426, 79.48295506, 94.90474687, 56.35982548],\n",
       "       [ 0.        , 54.77351078,  0.        , 72.42975902, 33.0507647 ]])"
      ]
     },
     "execution_count": 685,
     "metadata": {},
     "output_type": "execute_result"
    }
   ],
   "source": [
    "true_H"
   ]
  },
  {
   "cell_type": "code",
   "execution_count": 686,
   "metadata": {},
   "outputs": [],
   "source": [
    "def nmf(params):\n",
    "    W = params[:k*m].reshape(m, k)\n",
    "    H = params[k*m:].reshape(k, n)\n",
    "    return jnp.sum((X - W @ H) ** 2)"
   ]
  },
  {
   "cell_type": "code",
   "execution_count": 687,
   "metadata": {},
   "outputs": [
    {
     "data": {
      "text/plain": [
       "(Array([[  0.       ,   3.73     ,   0.       ,   4.47     ,   2.49     ],\n",
       "        [  0.       , 197.08     ,   0.       , 245.43999  , 126.619995 ],\n",
       "        [ 22.06     ,   1.8499999,  36.71     ,   0.       ,   3.59     ]],      dtype=float32),\n",
       " Array(469.97394, dtype=float32),\n",
       " Array(0., dtype=float32))"
      ]
     },
     "execution_count": 687,
     "metadata": {},
     "output_type": "execute_result"
    }
   ],
   "source": [
    "from skscope import ScopeSolver\n",
    "\n",
    "solver = ScopeSolver(p, k*m+l, preselect=preselect)\n",
    "params = solver.solve(nmf, layers=layers, jit=True)\n",
    "round(params[k*m:].reshape(k, n), 2), nmf(params), nmf(np.concatenate([true_W.flatten(), true_H.flatten()]))"
   ]
  },
  {
   "cell_type": "code",
   "execution_count": 688,
   "metadata": {},
   "outputs": [
    {
     "data": {
      "text/plain": [
       "0.6"
      ]
     },
     "execution_count": 688,
     "metadata": {},
     "output_type": "execute_result"
    }
   ],
   "source": [
    "len(set(true_H.reshape(-1).nonzero()[0]) & set(np.array(params[k*m:].nonzero()[0]))) / l"
   ]
  },
  {
   "cell_type": "code",
   "execution_count": 689,
   "metadata": {},
   "outputs": [
    {
     "data": {
      "text/plain": [
       "(Array([[ 19.56     ,   3.05     ,  10.98     ,   1.15     ,   6.92     ],\n",
       "        [  5.2799997,  59.039997 ,   5.73     ,  76.56     ,  37.02     ],\n",
       "        [ 33.77     , 254.87999  , 158.23999  , 295.44998  , 163.7      ]],      dtype=float32),\n",
       " Array(1.1004886e-09, dtype=float32),\n",
       " Array(0., dtype=float32))"
      ]
     },
     "execution_count": 689,
     "metadata": {},
     "output_type": "execute_result"
    }
   ],
   "source": [
    "from skscope import BaseSolver\n",
    "solver = BaseSolver(p, p)\n",
    "dense_params = solver.solve(nmf, layers=layers, jit=True)\n",
    "round(dense_params[k*m:].reshape(k, n), 2), nmf(dense_params), nmf(np.concatenate([true_W.flatten(), true_H.flatten()]))"
   ]
  },
  {
   "cell_type": "code",
   "execution_count": 690,
   "metadata": {},
   "outputs": [
    {
     "data": {
      "text/plain": [
       "(Array(0.8247665, dtype=float32), Array(0.2097329, dtype=float32))"
      ]
     },
     "execution_count": 690,
     "metadata": {},
     "output_type": "execute_result"
    }
   ],
   "source": [
    "L(true_H, params[k*m:].reshape(k, n)) / np.sum(true_H ** 2), L(true_H, dense_params[k*m:].reshape(k, n)) / np.sum(true_H ** 2)"
   ]
  }
 ],
 "metadata": {
  "kernelspec": {
   "display_name": "scope",
   "language": "python",
   "name": "python3"
  },
  "language_info": {
   "codemirror_mode": {
    "name": "ipython",
    "version": 3
   },
   "file_extension": ".py",
   "mimetype": "text/x-python",
   "name": "python",
   "nbconvert_exporter": "python",
   "pygments_lexer": "ipython3",
   "version": "3.10.13"
  }
 },
 "nbformat": 4,
 "nbformat_minor": 2
}
